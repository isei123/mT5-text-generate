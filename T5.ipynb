{
 "cells": [
  {
   "cell_type": "markdown",
   "metadata": {},
   "source": [
    "# **Pre-processing**"
   ]
  },
  {
   "cell_type": "code",
   "execution_count": null,
   "metadata": {
    "id": "94qQG19q-6sY"
   },
   "outputs": [],
   "source": [
    "import pandas as pd\n",
    "import numpy as np\n",
    "import torch\n",
    "from tqdm import tqdm\n",
    "from transformers import T5Tokenizer, T5ForConditionalGeneration\n",
    "from transformers.optimization import  Adafactor \n",
    "from torch.utils.data import DataLoader\n",
    "from torch.utils.data.dataset import Dataset"
   ]
  },
  {
   "cell_type": "code",
   "execution_count": null,
   "metadata": {},
   "outputs": [],
   "source": [
    "if torch.cuda.is_available():   \n",
    "  dev = torch.device(\"cuda:0\")   \n",
    "  print(\"Running on the GPU\")\n",
    "else:   \n",
    "  dev = torch.device(\"cpu\")   \n",
    "  print(\"Running on the CPU\")"
   ]
  },
  {
   "cell_type": "markdown",
   "metadata": {},
   "source": [
    "# **Create Bert dataset**"
   ]
  },
  {
   "cell_type": "code",
   "execution_count": null,
   "metadata": {
    "id": "xtvQ7lX_Aybu"
   },
   "outputs": [],
   "source": [
    "def load_data(path, num = 300):\n",
    "    df = pd.read_csv(path)\n",
    "    datas = df['input_text'][:num].tolist()\n",
    "    labels = df['target_text'][:num].tolist()\n",
    "    return datas,labels"
   ]
  },
  {
   "cell_type": "code",
   "execution_count": null,
   "metadata": {},
   "outputs": [],
   "source": [
    "class text_dataset(Dataset):\n",
    "    def __init__(self, datas, labels, tokenizer):\n",
    "        self.model_input = []\n",
    "        max_input_len = len(max(datas))\n",
    "        max_label_len = len(max(labels))\n",
    "        for data, label in zip(datas,labels):\n",
    "            data=\"WebNLG:\"+data\n",
    "            input_text = tokenizer.batch_encode_plus([data], max_length= max_input_len, pad_to_max_length=True,return_tensors='pt')\n",
    "            output_text = tokenizer.batch_encode_plus([label], max_length= max_label_len, pad_to_max_length=True,return_tensors='pt')\n",
    "            \n",
    "            input_ids = input_text['input_ids'].squeeze()\n",
    "            attention_mask = input_text['attention_mask'].squeeze()\n",
    "            label_ids = output_text['input_ids'].squeeze()\n",
    "            \n",
    "            self.model_input.append([input_ids, attention_mask, label_ids])\n",
    "            \n",
    "    def __getitem__(self, index):\n",
    "        return{'input_ids': self.model_input[index][0],\n",
    "               'attention_mask': self.model_input[index][1],\n",
    "               'labels':self.model_input[index][2]\n",
    "              }\n",
    "    def __len__(self):\n",
    "        return len(self.model_input)"
   ]
  },
  {
   "cell_type": "markdown",
   "metadata": {},
   "source": [
    "# **Define model**"
   ]
  },
  {
   "cell_type": "code",
   "execution_count": null,
   "metadata": {},
   "outputs": [],
   "source": [
    "def model_fine_tune(model, optimizer, dataloder, max_epoch = 30):   \n",
    "    for epoch in range(max_epoch):\n",
    "        total_loss = 0\n",
    "        t = tqdm(dataloder)\n",
    "        for cnt,data in enumerate(t, 1):\n",
    "            for key in data.keys():\n",
    "                 data[key] = data[key].cuda()\n",
    "            outputs = model(**data, return_dict = True)\n",
    "\n",
    "            loss = outputs.loss\n",
    "            optimizer.zero_grad()\n",
    "            loss.backward()\n",
    "            optimizer.step()\n",
    "            total_loss+=loss.item() \n",
    "            t.set_description(f'Epoch {epoch}')\n",
    "            t.set_postfix({'Loss': total_loss/cnt})\n",
    "        if epoch > 20:\n",
    "            model.save_pretrained(f'model_{epoch}')"
   ]
  },
  {
   "cell_type": "markdown",
   "metadata": {},
   "source": [
    "# **Example**"
   ]
  },
  {
   "cell_type": "code",
   "execution_count": null,
   "metadata": {
    "id": "d024VR2s_fFy"
   },
   "outputs": [],
   "source": [
    "train_df=pd.read_csv('/your_data.csv')\n",
    "train_df=train_df.iloc[:3000, :]\n",
    "train_df=train_df.sample(frac = 1)\n",
    "#batch size is depending on your device's ability\n",
    "batch_size=1\n",
    "num_of_batches=len(train_df)//batch_size"
   ]
  },
  {
   "cell_type": "code",
   "execution_count": null,
   "metadata": {
    "colab": {
     "base_uri": "https://localhost:8080/",
     "height": 424
    },
    "id": "taiJlrrTbj57",
    "outputId": "c17e4c73-197a-44fb-aea4-1605cd960a69"
   },
   "outputs": [
    {
     "data": {
      "text/html": [
       "\n",
       "  <div id=\"df-fbd91b9c-3894-401c-bc9a-f163f21d80e5\">\n",
       "    <div class=\"colab-df-container\">\n",
       "      <div>\n",
       "<style scoped>\n",
       "    .dataframe tbody tr th:only-of-type {\n",
       "        vertical-align: middle;\n",
       "    }\n",
       "\n",
       "    .dataframe tbody tr th {\n",
       "        vertical-align: top;\n",
       "    }\n",
       "\n",
       "    .dataframe thead th {\n",
       "        text-align: right;\n",
       "    }\n",
       "</style>\n",
       "<table border=\"1\" class=\"dataframe\">\n",
       "  <thead>\n",
       "    <tr style=\"text-align: right;\">\n",
       "      <th></th>\n",
       "      <th>input_text</th>\n",
       "      <th>target_text</th>\n",
       "    </tr>\n",
       "  </thead>\n",
       "  <tbody>\n",
       "    <tr>\n",
       "      <th>1459</th>\n",
       "      <td>很貴 &amp; 沒</td>\n",
       "      <td>很貴東西少沒有很好吃</td>\n",
       "    </tr>\n",
       "    <tr>\n",
       "      <th>9770</th>\n",
       "      <td>牛肉 &amp; 少 &amp; 為</td>\n",
       "      <td>牛肉特別少，為什麼啊</td>\n",
       "    </tr>\n",
       "    <tr>\n",
       "      <th>5854</th>\n",
       "      <td>送過 &amp; 晚 &amp; 一個 &amp; 小時 &amp; 飯 &amp; 菜</td>\n",
       "      <td>送過來晚了一個小時飯菜都涼了</td>\n",
       "    </tr>\n",
       "    <tr>\n",
       "      <th>7969</th>\n",
       "      <td>一個 &amp; 半小時</td>\n",
       "      <td>一個半小時</td>\n",
       "    </tr>\n",
       "    <tr>\n",
       "      <th>4284</th>\n",
       "      <td>硬硬 &amp; 塊 &amp; 肘子 &amp; 肉 &amp; 混為 &amp; 謝謝 &amp; 侮辱 &amp; 肘子 &amp; 肉</td>\n",
       "      <td>請不要把硬硬的肥肉塊跟嫩嫩的肘子肉混為一談。謝謝。,簡直侮辱了肘子肉。</td>\n",
       "    </tr>\n",
       "    <tr>\n",
       "      <th>...</th>\n",
       "      <td>...</td>\n",
       "      <td>...</td>\n",
       "    </tr>\n",
       "    <tr>\n",
       "      <th>10106</th>\n",
       "      <td>提前 &amp; 2 &amp; 遲 &amp; 一個 &amp; 小時 &amp; 才</td>\n",
       "      <td>提前2小時定，遲了一個小時才送來</td>\n",
       "    </tr>\n",
       "    <tr>\n",
       "      <th>1660</th>\n",
       "      <td>用餐 &amp; 兩個 &amp; 狀況 &amp; 個 &amp; 服務員 &amp; 我們 &amp; 火鍋 &amp; 加湯 &amp; 桌面 &amp; 飲...</td>\n",
       "      <td>今天去用餐遇到兩個狀況，第一個是服務員在幫我們火鍋加湯的時候，碰撞到桌面的飲料灑了一些出來，...</td>\n",
       "    </tr>\n",
       "    <tr>\n",
       "      <th>8720</th>\n",
       "      <td>味道 &amp; 為 &amp; 列表 &amp; 沒有 &amp; 寫 &amp; 打電話 &amp; 說 &amp; 換別</td>\n",
       "      <td>味道一般，海鮮蟹肉的從來就沒定成功，為什麼還要在列表裡面顯示，沒有就不要寫出來，最後還要打電...</td>\n",
       "    </tr>\n",
       "    <tr>\n",
       "      <th>2362</th>\n",
       "      <td>一進 &amp; 肉 &amp; 上燒 &amp; 滿 &amp; 整間 &amp; 覺得 &amp; 服務人員 &amp; 與 &amp; 打翻 &amp; 潑灑...</td>\n",
       "      <td>一進去肉在石板上燒的煙味佈滿整間餐廳。起初覺得佈置跟氣氛及服務人員都很熱情與貼心。但在上飲料...</td>\n",
       "    </tr>\n",
       "    <tr>\n",
       "      <th>4962</th>\n",
       "      <td>太長 &amp; 時間 &amp; 還說 &amp; 沒 &amp; 給 &amp; 沒給</td>\n",
       "      <td>太長時間了,還說飲料沒了下次給,也沒給</td>\n",
       "    </tr>\n",
       "  </tbody>\n",
       "</table>\n",
       "<p>10459 rows × 2 columns</p>\n",
       "</div>\n",
       "      <button class=\"colab-df-convert\" onclick=\"convertToInteractive('df-fbd91b9c-3894-401c-bc9a-f163f21d80e5')\"\n",
       "              title=\"Convert this dataframe to an interactive table.\"\n",
       "              style=\"display:none;\">\n",
       "        \n",
       "  <svg xmlns=\"http://www.w3.org/2000/svg\" height=\"24px\"viewBox=\"0 0 24 24\"\n",
       "       width=\"24px\">\n",
       "    <path d=\"M0 0h24v24H0V0z\" fill=\"none\"/>\n",
       "    <path d=\"M18.56 5.44l.94 2.06.94-2.06 2.06-.94-2.06-.94-.94-2.06-.94 2.06-2.06.94zm-11 1L8.5 8.5l.94-2.06 2.06-.94-2.06-.94L8.5 2.5l-.94 2.06-2.06.94zm10 10l.94 2.06.94-2.06 2.06-.94-2.06-.94-.94-2.06-.94 2.06-2.06.94z\"/><path d=\"M17.41 7.96l-1.37-1.37c-.4-.4-.92-.59-1.43-.59-.52 0-1.04.2-1.43.59L10.3 9.45l-7.72 7.72c-.78.78-.78 2.05 0 2.83L4 21.41c.39.39.9.59 1.41.59.51 0 1.02-.2 1.41-.59l7.78-7.78 2.81-2.81c.8-.78.8-2.07 0-2.86zM5.41 20L4 18.59l7.72-7.72 1.47 1.35L5.41 20z\"/>\n",
       "  </svg>\n",
       "      </button>\n",
       "      \n",
       "  <style>\n",
       "    .colab-df-container {\n",
       "      display:flex;\n",
       "      flex-wrap:wrap;\n",
       "      gap: 12px;\n",
       "    }\n",
       "\n",
       "    .colab-df-convert {\n",
       "      background-color: #E8F0FE;\n",
       "      border: none;\n",
       "      border-radius: 50%;\n",
       "      cursor: pointer;\n",
       "      display: none;\n",
       "      fill: #1967D2;\n",
       "      height: 32px;\n",
       "      padding: 0 0 0 0;\n",
       "      width: 32px;\n",
       "    }\n",
       "\n",
       "    .colab-df-convert:hover {\n",
       "      background-color: #E2EBFA;\n",
       "      box-shadow: 0px 1px 2px rgba(60, 64, 67, 0.3), 0px 1px 3px 1px rgba(60, 64, 67, 0.15);\n",
       "      fill: #174EA6;\n",
       "    }\n",
       "\n",
       "    [theme=dark] .colab-df-convert {\n",
       "      background-color: #3B4455;\n",
       "      fill: #D2E3FC;\n",
       "    }\n",
       "\n",
       "    [theme=dark] .colab-df-convert:hover {\n",
       "      background-color: #434B5C;\n",
       "      box-shadow: 0px 1px 3px 1px rgba(0, 0, 0, 0.15);\n",
       "      filter: drop-shadow(0px 1px 2px rgba(0, 0, 0, 0.3));\n",
       "      fill: #FFFFFF;\n",
       "    }\n",
       "  </style>\n",
       "\n",
       "      <script>\n",
       "        const buttonEl =\n",
       "          document.querySelector('#df-fbd91b9c-3894-401c-bc9a-f163f21d80e5 button.colab-df-convert');\n",
       "        buttonEl.style.display =\n",
       "          google.colab.kernel.accessAllowed ? 'block' : 'none';\n",
       "\n",
       "        async function convertToInteractive(key) {\n",
       "          const element = document.querySelector('#df-fbd91b9c-3894-401c-bc9a-f163f21d80e5');\n",
       "          const dataTable =\n",
       "            await google.colab.kernel.invokeFunction('convertToInteractive',\n",
       "                                                     [key], {});\n",
       "          if (!dataTable) return;\n",
       "\n",
       "          const docLinkHtml = 'Like what you see? Visit the ' +\n",
       "            '<a target=\"_blank\" href=https://colab.research.google.com/notebooks/data_table.ipynb>data table notebook</a>'\n",
       "            + ' to learn more about interactive tables.';\n",
       "          element.innerHTML = '';\n",
       "          dataTable['output_type'] = 'display_data';\n",
       "          await google.colab.output.renderOutput(dataTable, element);\n",
       "          const docLink = document.createElement('div');\n",
       "          docLink.innerHTML = docLinkHtml;\n",
       "          element.appendChild(docLink);\n",
       "        }\n",
       "      </script>\n",
       "    </div>\n",
       "  </div>\n",
       "  "
      ],
      "text/plain": [
       "                                              input_text  \\\n",
       "1459                                              很貴 & 沒   \n",
       "9770                                          牛肉 & 少 & 為   \n",
       "5854                            送過 & 晚 & 一個 & 小時 & 飯 & 菜   \n",
       "7969                                            一個 & 半小時   \n",
       "4284             硬硬 & 塊 & 肘子 & 肉 & 混為 & 謝謝 & 侮辱 & 肘子 & 肉   \n",
       "...                                                  ...   \n",
       "10106                           提前 & 2 & 遲 & 一個 & 小時 & 才   \n",
       "1660   用餐 & 兩個 & 狀況 & 個 & 服務員 & 我們 & 火鍋 & 加湯 & 桌面 & 飲...   \n",
       "8720                 味道 & 為 & 列表 & 沒有 & 寫 & 打電話 & 說 & 換別   \n",
       "2362   一進 & 肉 & 上燒 & 滿 & 整間 & 覺得 & 服務人員 & 與 & 打翻 & 潑灑...   \n",
       "4962                           太長 & 時間 & 還說 & 沒 & 給 & 沒給   \n",
       "\n",
       "                                             target_text  \n",
       "1459                                          很貴東西少沒有很好吃  \n",
       "9770                                          牛肉特別少，為什麼啊  \n",
       "5854                                      送過來晚了一個小時飯菜都涼了  \n",
       "7969                                               一個半小時  \n",
       "4284                 請不要把硬硬的肥肉塊跟嫩嫩的肘子肉混為一談。謝謝。,簡直侮辱了肘子肉。  \n",
       "...                                                  ...  \n",
       "10106                                   提前2小時定，遲了一個小時才送來  \n",
       "1660   今天去用餐遇到兩個狀況，第一個是服務員在幫我們火鍋加湯的時候，碰撞到桌面的飲料灑了一些出來，...  \n",
       "8720   味道一般，海鮮蟹肉的從來就沒定成功，為什麼還要在列表裡面顯示，沒有就不要寫出來，最後還要打電...  \n",
       "2362   一進去肉在石板上燒的煙味佈滿整間餐廳。起初覺得佈置跟氣氛及服務人員都很熱情與貼心。但在上飲料...  \n",
       "4962                                 太長時間了,還說飲料沒了下次給,也沒給  \n",
       "\n",
       "[10459 rows x 2 columns]"
      ]
     },
     "execution_count": 6,
     "metadata": {},
     "output_type": "execute_result"
    }
   ],
   "source": [
    "train_df"
   ]
  },
  {
   "cell_type": "code",
   "execution_count": null,
   "metadata": {},
   "outputs": [],
   "source": [
    "tokenizer = T5Tokenizer.from_pretrained(\"google/mt5-base\")#'t5-base'\n",
    "model = T5ForConditionalGeneration.from_pretrained(\"google/mt5-base\").cuda()\n",
    "\n",
    "datas, labels = load_data(train_df,10000)\n",
    "dataset = text_dataset(datas, labels, tokenizer)\n",
    "dataloder = DataLoader(dataset=dataset, batch_size=8, shuffle=True, num_workers=0)\n",
    "\n",
    "\n",
    "\n",
    "optimizer = Adafactor(model.parameters(),lr=1e-6,\n",
    "                      eps=(1e-30, 1e-3),\n",
    "                      clip_threshold=1.0,\n",
    "                      decay_rate=-0.8,\n",
    "                      beta1=None,\n",
    "                      weight_decay=0.0,\n",
    "                      relative_step=False,\n",
    "                      scale_parameter=False,\n",
    "                      warmup_init=False)\n",
    "\n",
    "model_fine_tune(model, optimizer, dataloder, 30)\n",
    "model.eval()"
   ]
  },
  {
   "cell_type": "code",
   "execution_count": null,
   "metadata": {},
   "outputs": [],
   "source": [
    "#for testing\n",
    "input_ids = tokenizer.encode(\"WebNLG: 難吃 & 環境 & 髒亂\", return_tensors=\"pt\")  # Batch size 1\n",
    "input_ids=input_ids.cuda()\n",
    "outputs = model.generate(input_ids)\n",
    "tokenizer.decode(outputs[0])"
   ]
  },
  {
   "cell_type": "markdown",
   "metadata": {},
   "source": [
    "# **Generate text data**"
   ]
  },
  {
   "cell_type": "code",
   "execution_count": null,
   "metadata": {
    "id": "R_vFnqydAOdo"
   },
   "outputs": [],
   "source": [
    "from IPython.display import HTML, display\n",
    "def progress(loss,value, max=100):\n",
    " return HTML(\"\"\" Batch loss :{loss}\n",
    "        <progress    \n",
    "        value='{value}'max='{max}',style='width: 100%'>{value}\n",
    "        </progress>\n",
    "        \"\"\".format(loss=loss,value=value, max=max))"
   ]
  },
  {
   "cell_type": "code",
   "execution_count": null,
   "metadata": {
    "id": "-Lx-6DXHBM41"
   },
   "outputs": [],
   "source": [
    "df = pd.read_csv(r'C:your_test_data.csv', encoding='utf-8-sig')\n",
    "a = df.input_text.tolist()\n",
    "\n",
    "tokenizer = T5Tokenizer.from_pretrained(\"google/mt5-base\")\n",
    "model = T5ForConditionalGeneration.from_pretrained(r\"C:\\MT5\\model_29\").cuda()\n",
    "\n",
    "optimizer = Adafactor(model.parameters(),lr=1e-6,\n",
    "                      eps=(1e-30, 1e-3),\n",
    "                      clip_threshold=1.0,\n",
    "                      decay_rate=-0.8,\n",
    "                      beta1=None,\n",
    "                      weight_decay=0.0,\n",
    "                      relative_step=False,\n",
    "                      scale_parameter=False,\n",
    "                      warmup_init=False)\n",
    "\n",
    "final = []\n",
    "y = []\n",
    "for i in a[:1000]:\n",
    "    \n",
    "    model.eval()\n",
    "    input_ids = tokenizer.encode(f'WebNLG:{i}', return_tensors=\"pt\")\n",
    "    input_ids=input_ids.cuda()\n",
    "    outputs = model.generate(input_ids)\n",
    "    f_text=tokenizer.decode(outputs[0])\n",
    "    if '<pad>' in f_text:\n",
    "         f_text = f_text.replace('<pad>','')   \n",
    "    if '</s>' in f_text:\n",
    "         f_text = f_text.replace('</s>','')    \n",
    "    final.append(f_text)\n",
    "    y.append(0)\n",
    "    \n",
    "df_nf=pd.DataFrame({'text':final, 'y':y})\n",
    "\n",
    "\n",
    "df_nf.to_csv(r'\\MT5\\mT5_samples.csv', encoding='utf-8-sig', index= False)"
   ]
  }
 ],
 "metadata": {
  "accelerator": "GPU",
  "colab": {
   "provenance": []
  },
  "gpuClass": "standard",
  "kernelspec": {
   "display_name": "Python 3",
   "language": "python",
   "name": "python3"
  },
  "language_info": {
   "codemirror_mode": {
    "name": "ipython",
    "version": 3
   },
   "file_extension": ".py",
   "mimetype": "text/x-python",
   "name": "python",
   "nbconvert_exporter": "python",
   "pygments_lexer": "ipython3",
   "version": "3.7.6"
  },
  "varInspector": {
   "cols": {
    "lenName": 16,
    "lenType": 16,
    "lenVar": 40
   },
   "kernels_config": {
    "python": {
     "delete_cmd_postfix": "",
     "delete_cmd_prefix": "del ",
     "library": "var_list.py",
     "varRefreshCmd": "print(var_dic_list())"
    },
    "r": {
     "delete_cmd_postfix": ") ",
     "delete_cmd_prefix": "rm(",
     "library": "var_list.r",
     "varRefreshCmd": "cat(var_dic_list()) "
    }
   },
   "types_to_exclude": [
    "module",
    "function",
    "builtin_function_or_method",
    "instance",
    "_Feature"
   ],
   "window_display": false
  }
 },
 "nbformat": 4,
 "nbformat_minor": 1
}
